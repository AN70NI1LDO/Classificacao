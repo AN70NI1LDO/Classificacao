{
 "cells": [
  {
   "cell_type": "code",
   "execution_count": 3,
   "metadata": {},
   "outputs": [
    {
     "data": {
      "text/plain": [
       "array(['setosa', 'versicolor', 'virginica'], dtype='<U10')"
      ]
     },
     "execution_count": 3,
     "metadata": {},
     "output_type": "execute_result"
    }
   ],
   "source": [
    "from sklearn.datasets import load_iris\n",
    "data = load_iris()\n",
    "X = data.data[:,2:4]\n",
    "y = data.target\n",
    "data.target_names"
   ]
  },
  {
   "cell_type": "code",
   "execution_count": 6,
   "metadata": {},
   "outputs": [
    {
     "data": {
      "text/plain": [
       "<function matplotlib.pyplot.show(close=None, block=None)>"
      ]
     },
     "execution_count": 6,
     "metadata": {},
     "output_type": "execute_result"
    },
    {
     "data": {
      "image/png": "[encoded data removed]",
      "text/plain": [
       "<Figure size 432x288 with 1 Axes>"
      ]
     },
     "metadata": {
      "needs_background": "light"
     },
     "output_type": "display_data"
    }
   ],
   "source": [
    "import matplotlib.pyplot as plt\n",
    "\n",
    "plt.scatter (X[:,0], X[:,1], marker = \".\")\n",
    "plt.show"
   ]
  },
  {
   "cell_type": "code",
   "execution_count": 29,
   "metadata": {},
   "outputs": [],
   "source": [
    "from sklearn.base import BaseEstimator, ClusterMixin, TransformerMixin\n",
    "import numpy as np\n",
    "import random\n",
    "\n",
    "class KMeans(BaseEstimator, ClusterMixin, TransformerMixin):\n",
    "    \n",
    "    def __init__(self, n_clusters=3):\n",
    "        self.n_clusters = n_clusters\n",
    "    \n",
    "    def _init_centroids(self, X):\n",
    "        min = np.min(X, axis=0)\n",
    "        max = np.max(X, axis=0)\n",
    "        centroids = []\n",
    "        for i in range(self.n_clusters):\n",
    "            centroid = []\n",
    "            for j in range(X.shape[1]):\n",
    "                centroid.append(random.uniform(min[j], max[j]))\n",
    "            centroids.append(centroid)\n",
    "        self.cluster_centers_ = np.array(centroids)"
   ]
  },
  {
   "cell_type": "code",
   "execution_count": 30,
   "metadata": {},
   "outputs": [],
   "source": [
    "    def fit(self, X, y=None):\n",
    "        self._init_centroids(X)\n",
    "        previous_centroids = self.cluster_centers_.copy()                               #copia de objeto para evitar a ligacao entre os objetos\n",
    "        while True:\n",
    "            ypred = self.predict(X)\n",
    "            for i in range(self.n_clusters):                                            #determinando o centro de cada cluster\n",
    "                if np.any(ypred==i):                                                    #considera todo cluster, mesmo com conjunto vazio\n",
    "                    self.cluster_centers_[i] = np.mean(X[ypred==i], axis=0)             #a media de todos os valores do eixo\n",
    "            if np.allclose(previous_centroids, self.cluster_centers_, atol=0.0001):     \n",
    "                break\n",
    "            previous_centroids = self.cluster_centers_.copy()"
   ]
  },
  {
   "cell_type": "code",
   "execution_count": 31,
   "metadata": {},
   "outputs": [],
   "source": [
    "    def predict(self, X):\n",
    "        ypred = np.empty((X.shape[0],))\n",
    "        for i in range(X.shape[0]):\n",
    "            distancias = self._distancias(X[i])\n",
    "            centroid = np.argmin(distancias)\n",
    "            ypred[i] = centroid\n",
    "        return ypred"
   ]
  },
  {
   "cell_type": "code",
   "execution_count": 32,
   "metadata": {},
   "outputs": [],
   "source": [
    "    def _distancias(self, X):                                                           #calcular distancia\n",
    "        diferenca = self.cluster_centers_ - X\n",
    "        quadrado = diferenca ** 2\n",
    "        soma = np.sum(quadrado, axis=1)\n",
    "        raiz = np.sqrt(soma)\n",
    "        return raiz"
   ]
  },
  {
   "cell_type": "code",
   "execution_count": 36,
   "metadata": {},
   "outputs": [
    {
     "name": "stdout",
     "output_type": "stream",
     "text": [
      "[[5.59583333 2.0375    ]\n",
      " [1.462      0.246     ]\n",
      " [4.26923077 1.34230769]]\n"
     ]
    }
   ],
   "source": [
    "from sklearn.cluster import KMeans\n",
    "\n",
    "kmeans = KMeans(3)\n",
    "kmeans.fit(X)\n",
    "print(kmeans.cluster_centers_)"
   ]
  },
  {
   "cell_type": "code",
   "execution_count": null,
   "metadata": {},
   "outputs": [],
   "source": []
  }
 ],
 "metadata": {
  "interpreter": {
   "hash": "9d8750c1397e3691190143a6b1a87548846e167b0f291b379f209a10016701c7"
  },
  "kernelspec": {
   "display_name": "Python 3.9.13 64-bit (windows store)",
   "language": "python",
   "name": "python3"
  },
  "language_info": {
   "codemirror_mode": {
    "name": "ipython",
    "version": 3
   },
   "file_extension": ".py",
   "mimetype": "text/x-python",
   "name": "python",
   "nbconvert_exporter": "python",
   "pygments_lexer": "ipython3",
   "version": "3.9.13"
  },
  "orig_nbformat": 4
 },
 "nbformat": 4,
 "nbformat_minor": 2
}
